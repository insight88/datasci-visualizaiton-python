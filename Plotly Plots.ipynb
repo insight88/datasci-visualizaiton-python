{
 "cells": [
  {
   "cell_type": "code",
   "execution_count": 23,
   "metadata": {},
   "outputs": [
    {
     "data": {
      "application/vnd.plotly.v1+json": {
       "config": {
        "plotlyServerURL": "https://plot.ly"
       },
       "data": [
        {
         "customdata": [
          [
           6630051,
           2525573,
           196763,
           "US"
          ],
          [
           5020359,
           3942360,
           82066,
           "India"
          ],
          [
           4419083,
           3845464,
           134106,
           "Brazil"
          ],
          [
           1075485,
           887457,
           18853,
           "Russia"
          ],
          [
           738020,
           580753,
           30927,
           "Peru"
          ],
          [
           736377,
           610078,
           23478,
           "Colombia"
          ],
          [
           680931,
           574203,
           71978,
           "Mexico"
          ],
          [
           653444,
           584195,
           15705,
           "South Africa"
          ],
          [
           614360,
           150376,
           30243,
           "Spain"
          ],
          [
           589012,
           448263,
           12116,
           "Argentina"
          ],
          [
           443869,
           91293,
           31056,
           "France"
          ],
          [
           439287,
           411853,
           12058,
           "Chile"
          ],
          [
           410334,
           352019,
           23632,
           "Iran"
          ],
          [
           380677,
           2190,
           41773,
           "United Kingdom"
          ],
          [
           342671,
           247969,
           4823,
           "Bangladesh"
          ],
          [
           327551,
           306004,
           4369,
           "Saudi Arabia"
          ],
          [
           303634,
           291169,
           6399,
           "Pakistan"
          ],
          [
           303059,
           237241,
           8248,
           "Iraq"
          ],
          [
           296391,
           262602,
           7249,
           "Turkey"
          ],
          [
           291442,
           215265,
           35645,
           "Italy"
          ],
          [
           272934,
           207858,
           4732,
           "Philippines"
          ],
          [
           266869,
           236623,
           9373,
           "Germany"
          ],
          [
           228993,
           164101,
           9100,
           "Indonesia"
          ],
          [
           170465,
           123219,
           1165,
           "Israel"
          ],
          [
           166694,
           74981,
           3404,
           "Ukraine"
          ],
          [
           141852,
           124412,
           9244,
           "Canada"
          ],
          [
           128872,
           87031,
           7478,
           "Bolivia"
          ],
          [
           122449,
           119400,
           208,
           "Qatar"
          ],
          [
           121525,
           97063,
           10996,
           "Ecuador"
          ],
          [
           107056,
           101455,
           1671,
           "Kazakhstan"
          ],
          [
           107011,
           43244,
           4285,
           "Romania"
          ],
          [
           105521,
           78891,
           2009,
           "Dominican Republic"
          ],
          [
           103466,
           76787,
           2198,
           "Panama"
          ],
          [
           101500,
           86549,
           5696,
           "Egypt"
          ],
          [
           96999,
           87187,
           571,
           "Kuwait"
          ],
          [
           95948,
           18810,
           9935,
           "Belgium"
          ],
          [
           92016,
           72968,
           1686,
           "Morocco"
          ],
          [
           91196,
           84363,
           805,
           "Oman"
          ],
          [
           90425,
           2238,
           6303,
           "Netherlands"
          ],
          [
           90253,
           85155,
           4736,
           "China"
          ],
          [
           87575,
           0,
           5860,
           "Sweden"
          ],
          [
           82924,
           72562,
           3009,
           "Guatemala"
          ],
          [
           81782,
           71456,
           402,
           "United Arab Emirates"
          ],
          [
           76997,
           68110,
           1481,
           "Japan"
          ],
          [
           75734,
           62110,
           2237,
           "Poland"
          ],
          [
           74763,
           72810,
           767,
           "Belarus"
          ],
          [
           69660,
           19983,
           2102,
           "Honduras"
          ],
          [
           66224,
           26665,
           1045,
           "Ethiopia"
          ],
          [
           65626,
           44528,
           1878,
           "Portugal"
          ],
          [
           63416,
           51274,
           511,
           "Venezuela"
          ],
          [
           62484,
           55444,
           216,
           "Bahrain"
          ],
          [
           59516,
           21752,
           649,
           "Costa Rica"
          ],
          [
           58327,
           41706,
           379,
           "Nepal"
          ],
          [
           57514,
           56955,
           27,
           "Singapore"
          ],
          [
           56604,
           47872,
           1091,
           "Nigeria"
          ],
          [
           49015,
           45422,
           407,
           "Uzbekistan"
          ],
          [
           48966,
           34517,
           1645,
           "Algeria"
          ],
          [
           48265,
           39900,
           2039,
           "Switzerland"
          ],
          [
           46376,
           42069,
           923,
           "Armenia"
          ],
          [
           45655,
           44797,
           294,
           "Ghana"
          ],
          [
           45072,
           41210,
           1063,
           "Kyrgyzstan"
          ],
          [
           44361,
           32732,
           1159,
           "Moldova"
          ],
          [
           41032,
           22931,
           482,
           "Czechia"
          ],
          [
           38855,
           32503,
           1436,
           "Afghanistan"
          ],
          [
           38658,
           36149,
           569,
           "Azerbaijan"
          ],
          [
           36301,
           23364,
           634,
           "Kenya"
          ],
          [
           35073,
           27655,
           758,
           "Austria"
          ],
          [
           33006,
           22209,
           243,
           "West Bank and Gaza"
          ],
          [
           32613,
           0,
           736,
           "Serbia"
          ],
          [
           31799,
           23364,
           1788,
           "Ireland"
          ],
          [
           30419,
           15740,
           566,
           "Paraguay"
          ],
          [
           27163,
           19960,
           796,
           "El Salvador"
          ],
          [
           26813,
           23790,
           832,
           "Australia"
          ],
          [
           26083,
           9634,
           259,
           "Lebanon"
          ],
          [
           24936,
           13498,
           394,
           "Libya"
          ],
          [
           24211,
           16990,
           736,
           "Bosnia and Herzegovina"
          ],
          [
           22657,
           19543,
           372,
           "Korea, South"
          ],
          [
           21013,
           16983,
           633,
           "Denmark"
          ],
          [
           20303,
           18837,
           415,
           "Cameroon"
          ],
          [
           19132,
           18289,
           120,
           "Cote d'Ivoire"
          ],
          [
           18390,
           13241,
           739,
           "Bulgaria"
          ],
          [
           16088,
           13550,
           668,
           "North Macedonia"
          ],
          [
           15871,
           14482,
           215,
           "Madagascar"
          ],
          [
           14568,
           10756,
           299,
           "Senegal"
          ],
          [
           14460,
           4153,
           654,
           "Hungary"
          ],
          [
           14041,
           1347,
           316,
           "Greece"
          ],
          [
           14029,
           11690,
           236,
           "Croatia"
          ],
          [
           13887,
           12869,
           326,
           "Zambia"
          ],
          [
           13535,
           6759,
           836,
           "Sudan"
          ],
          [
           12683,
           8788,
           488,
           "Kosovo"
          ],
          [
           12498,
           10371,
           265,
           "Norway"
          ],
          [
           11816,
           6733,
           343,
           "Albania"
          ],
          [
           10414,
           9827,
           267,
           "Congo (Kinshasa)"
          ],
          [
           10154,
           9612,
           63,
           "Guinea"
          ],
          [
           10031,
           9235,
           128,
           "Malaysia"
          ],
          [
           9964,
           7502,
           108,
           "Namibia"
          ],
          [
           9427,
           7903,
           33,
           "Maldives"
          ],
          [
           9171,
           7941,
           73,
           "Tajikistan"
          ],
          [
           8750,
           7700,
           339,
           "Finland"
          ],
          [
           8678,
           7827,
           53,
           "Gabon"
          ],
          [
           8541,
           6258,
           220,
           "Haiti"
          ],
          [
           8100,
           2309,
           129,
           "Tunisia"
          ],
          [
           7598,
           5823,
           224,
           "Zimbabwe"
          ],
          [
           7394,
           6593,
           124,
           "Luxembourg"
          ],
          [
           7332,
           6844,
           161,
           "Mauritania"
          ],
          [
           7291,
           4764,
           126,
           "Montenegro"
          ],
          [
           5994,
           3267,
           39,
           "Mozambique"
          ],
          [
           5860,
           3220,
           38,
           "Slovakia"
          ],
          [
           5704,
           3764,
           178,
           "Malawi"
          ],
          [
           5399,
           5333,
           61,
           "Djibouti"
          ],
          [
           5266,
           2404,
           60,
           "Uganda"
          ],
          [
           5155,
           4418,
           101,
           "Eswatini"
          ],
          [
           5000,
           4496,
           83,
           "Equatorial Guinea"
          ],
          [
           4978,
           4430,
           47,
           "Cabo Verde"
          ],
          [
           4961,
           2913,
           147,
           "Nicaragua"
          ],
          [
           4934,
           3887,
           88,
           "Congo (Brazzaville)"
          ],
          [
           4876,
           4131,
           109,
           "Cuba"
          ],
          [
           4782,
           1830,
           62,
           "Central African Republic"
          ],
          [
           4645,
           4089,
           95,
           "Suriname"
          ],
          [
           4634,
           2789,
           22,
           "Rwanda"
          ],
          [
           4164,
           1180,
           46,
           "Jamaica"
          ],
          [
           3954,
           2844,
           135,
           "Slovenia"
          ],
          [
           3894,
           908,
           46,
           "Burma"
          ],
          [
           3852,
           2349,
           26,
           "Jordan"
          ],
          [
           3675,
           1401,
           143,
           "Angola"
          ],
          [
           3654,
           889,
           163,
           "Syria"
          ],
          [
           3490,
           3325,
           58,
           "Thailand"
          ],
          [
           3442,
           2125,
           87,
           "Lithuania"
          ],
          [
           3440,
           1851,
           107,
           "Gambia"
          ],
          [
           3390,
           2812,
           98,
           "Somalia"
          ],
          [
           3327,
           810,
           58,
           "Trinidad and Tobago"
          ],
          [
           3271,
           3021,
           13,
           "Sri Lanka"
          ],
          [
           3087,
           1533,
           69,
           "Bahamas"
          ],
          [
           2966,
           2311,
           128,
           "Mali"
          ],
          [
           2758,
           1412,
           19,
           "Georgia"
          ],
          [
           2756,
           2318,
           64,
           "Estonia"
          ],
          [
           2594,
           1290,
           49,
           "South Sudan"
          ],
          [
           2560,
           1953,
           16,
           "Malta"
          ],
          [
           2463,
           575,
           11,
           "Botswana"
          ],
          [
           2280,
           1942,
           40,
           "Benin"
          ],
          [
           2275,
           1127,
           39,
           "Guinea-Bissau"
          ],
          [
           2189,
           2104,
           10,
           "Iceland"
          ],
          [
           2133,
           1646,
           72,
           "Sierra Leone"
          ],
          [
           2019,
           1221,
           583,
           "Yemen"
          ],
          [
           1958,
           1302,
           58,
           "Guyana"
          ],
          [
           1856,
           1559,
           45,
           "Uruguay"
          ],
          [
           1809,
           1707,
           25,
           "New Zealand"
          ],
          [
           1748,
           1162,
           56,
           "Burkina Faso"
          ],
          [
           1608,
           1230,
           40,
           "Togo"
          ],
          [
           1548,
           1282,
           22,
           "Cyprus"
          ],
          [
           1536,
           696,
           19,
           "Belize"
          ],
          [
           1486,
           1248,
           35,
           "Latvia"
          ],
          [
           1483,
           1054,
           53,
           "Andorra"
          ],
          [
           1332,
           1214,
           82,
           "Liberia"
          ],
          [
           1327,
           687,
           33,
           "Lesotho"
          ],
          [
           1182,
           1104,
           69,
           "Niger"
          ],
          [
           1090,
           960,
           81,
           "Chad"
          ],
          [
           1063,
           936,
           35,
           "Vietnam"
          ],
          [
           907,
           871,
           15,
           "Sao Tome and Principe"
          ],
          [
           723,
           663,
           42,
           "San Marino"
          ],
          [
           712,
           651,
           13,
           "Diamond Princess"
          ],
          [
           516,
           232,
           6,
           "Papua New Guinea"
          ],
          [
           509,
           183,
           21,
           "Tanzania"
          ],
          [
           500,
           477,
           7,
           "Taiwan*"
          ],
          [
           472,
           374,
           1,
           "Burundi"
          ],
          [
           467,
           446,
           7,
           "Comoros"
          ],
          [
           365,
           338,
           10,
           "Mauritius"
          ],
          [
           364,
           305,
           0,
           "Eritrea"
          ],
          [
           311,
           301,
           0,
           "Mongolia"
          ],
          [
           275,
           274,
           0,
           "Cambodia"
          ],
          [
           246,
           175,
           0,
           "Bhutan"
          ],
          [
           185,
           171,
           7,
           "Barbados"
          ],
          [
           181,
           137,
           1,
           "Monaco"
          ],
          [
           145,
           139,
           3,
           "Brunei"
          ],
          [
           140,
           136,
           0,
           "Seychelles"
          ],
          [
           111,
           105,
           1,
           "Liechtenstein"
          ],
          [
           95,
           91,
           3,
           "Antigua and Barbuda"
          ],
          [
           64,
           62,
           0,
           "Saint Vincent and the Grenadines"
          ],
          [
           32,
           24,
           2,
           "Fiji"
          ],
          [
           27,
           26,
           0,
           "Timor-Leste"
          ],
          [
           27,
           26,
           0,
           "Saint Lucia"
          ],
          [
           24,
           24,
           0,
           "Grenada"
          ],
          [
           24,
           18,
           0,
           "Dominica"
          ],
          [
           23,
           22,
           0,
           "Laos"
          ],
          [
           17,
           17,
           0,
           "Saint Kitts and Nevis"
          ],
          [
           12,
           12,
           0,
           "Holy See"
          ],
          [
           10,
           8,
           1,
           "Western Sahara"
          ],
          [
           9,
           0,
           2,
           "MS Zaandam"
          ]
         ],
         "geo": "geo",
         "hovertemplate": "<b>%{hovertext}</b><br><br>Confirmed=%{marker.color:,2f}<br>Recovered=%{customdata[1]:,2f}<br>Deaths=%{customdata[2]:,2f}<extra></extra>",
         "hovertext": [
          "US",
          "India",
          "Brazil",
          "Russia",
          "Peru",
          "Colombia",
          "Mexico",
          "South Africa",
          "Spain",
          "Argentina",
          "France",
          "Chile",
          "Iran",
          "United Kingdom",
          "Bangladesh",
          "Saudi Arabia",
          "Pakistan",
          "Iraq",
          "Turkey",
          "Italy",
          "Philippines",
          "Germany",
          "Indonesia",
          "Israel",
          "Ukraine",
          "Canada",
          "Bolivia",
          "Qatar",
          "Ecuador",
          "Kazakhstan",
          "Romania",
          "Dominican Republic",
          "Panama",
          "Egypt",
          "Kuwait",
          "Belgium",
          "Morocco",
          "Oman",
          "Netherlands",
          "China",
          "Sweden",
          "Guatemala",
          "United Arab Emirates",
          "Japan",
          "Poland",
          "Belarus",
          "Honduras",
          "Ethiopia",
          "Portugal",
          "Venezuela",
          "Bahrain",
          "Costa Rica",
          "Nepal",
          "Singapore",
          "Nigeria",
          "Uzbekistan",
          "Algeria",
          "Switzerland",
          "Armenia",
          "Ghana",
          "Kyrgyzstan",
          "Moldova",
          "Czechia",
          "Afghanistan",
          "Azerbaijan",
          "Kenya",
          "Austria",
          "West Bank and Gaza",
          "Serbia",
          "Ireland",
          "Paraguay",
          "El Salvador",
          "Australia",
          "Lebanon",
          "Libya",
          "Bosnia and Herzegovina",
          "Korea, South",
          "Denmark",
          "Cameroon",
          "Cote d'Ivoire",
          "Bulgaria",
          "North Macedonia",
          "Madagascar",
          "Senegal",
          "Hungary",
          "Greece",
          "Croatia",
          "Zambia",
          "Sudan",
          "Kosovo",
          "Norway",
          "Albania",
          "Congo (Kinshasa)",
          "Guinea",
          "Malaysia",
          "Namibia",
          "Maldives",
          "Tajikistan",
          "Finland",
          "Gabon",
          "Haiti",
          "Tunisia",
          "Zimbabwe",
          "Luxembourg",
          "Mauritania",
          "Montenegro",
          "Mozambique",
          "Slovakia",
          "Malawi",
          "Djibouti",
          "Uganda",
          "Eswatini",
          "Equatorial Guinea",
          "Cabo Verde",
          "Nicaragua",
          "Congo (Brazzaville)",
          "Cuba",
          "Central African Republic",
          "Suriname",
          "Rwanda",
          "Jamaica",
          "Slovenia",
          "Burma",
          "Jordan",
          "Angola",
          "Syria",
          "Thailand",
          "Lithuania",
          "Gambia",
          "Somalia",
          "Trinidad and Tobago",
          "Sri Lanka",
          "Bahamas",
          "Mali",
          "Georgia",
          "Estonia",
          "South Sudan",
          "Malta",
          "Botswana",
          "Benin",
          "Guinea-Bissau",
          "Iceland",
          "Sierra Leone",
          "Yemen",
          "Guyana",
          "Uruguay",
          "New Zealand",
          "Burkina Faso",
          "Togo",
          "Cyprus",
          "Belize",
          "Latvia",
          "Andorra",
          "Liberia",
          "Lesotho",
          "Niger",
          "Chad",
          "Vietnam",
          "Sao Tome and Principe",
          "San Marino",
          "Diamond Princess",
          "Papua New Guinea",
          "Tanzania",
          "Taiwan*",
          "Burundi",
          "Comoros",
          "Mauritius",
          "Eritrea",
          "Mongolia",
          "Cambodia",
          "Bhutan",
          "Barbados",
          "Monaco",
          "Brunei",
          "Seychelles",
          "Liechtenstein",
          "Antigua and Barbuda",
          "Saint Vincent and the Grenadines",
          "Fiji",
          "Timor-Leste",
          "Saint Lucia",
          "Grenada",
          "Dominica",
          "Laos",
          "Saint Kitts and Nevis",
          "Holy See",
          "Western Sahara",
          "MS Zaandam"
         ],
         "legendgroup": "",
         "locationmode": "country names",
         "locations": [
          "US",
          "India",
          "Brazil",
          "Russia",
          "Peru",
          "Colombia",
          "Mexico",
          "South Africa",
          "Spain",
          "Argentina",
          "France",
          "Chile",
          "Iran",
          "United Kingdom",
          "Bangladesh",
          "Saudi Arabia",
          "Pakistan",
          "Iraq",
          "Turkey",
          "Italy",
          "Philippines",
          "Germany",
          "Indonesia",
          "Israel",
          "Ukraine",
          "Canada",
          "Bolivia",
          "Qatar",
          "Ecuador",
          "Kazakhstan",
          "Romania",
          "Dominican Republic",
          "Panama",
          "Egypt",
          "Kuwait",
          "Belgium",
          "Morocco",
          "Oman",
          "Netherlands",
          "China",
          "Sweden",
          "Guatemala",
          "United Arab Emirates",
          "Japan",
          "Poland",
          "Belarus",
          "Honduras",
          "Ethiopia",
          "Portugal",
          "Venezuela",
          "Bahrain",
          "Costa Rica",
          "Nepal",
          "Singapore",
          "Nigeria",
          "Uzbekistan",
          "Algeria",
          "Switzerland",
          "Armenia",
          "Ghana",
          "Kyrgyzstan",
          "Moldova",
          "Czechia",
          "Afghanistan",
          "Azerbaijan",
          "Kenya",
          "Austria",
          "West Bank and Gaza",
          "Serbia",
          "Ireland",
          "Paraguay",
          "El Salvador",
          "Australia",
          "Lebanon",
          "Libya",
          "Bosnia and Herzegovina",
          "Korea, South",
          "Denmark",
          "Cameroon",
          "Cote d'Ivoire",
          "Bulgaria",
          "North Macedonia",
          "Madagascar",
          "Senegal",
          "Hungary",
          "Greece",
          "Croatia",
          "Zambia",
          "Sudan",
          "Kosovo",
          "Norway",
          "Albania",
          "Congo (Kinshasa)",
          "Guinea",
          "Malaysia",
          "Namibia",
          "Maldives",
          "Tajikistan",
          "Finland",
          "Gabon",
          "Haiti",
          "Tunisia",
          "Zimbabwe",
          "Luxembourg",
          "Mauritania",
          "Montenegro",
          "Mozambique",
          "Slovakia",
          "Malawi",
          "Djibouti",
          "Uganda",
          "Eswatini",
          "Equatorial Guinea",
          "Cabo Verde",
          "Nicaragua",
          "Congo (Brazzaville)",
          "Cuba",
          "Central African Republic",
          "Suriname",
          "Rwanda",
          "Jamaica",
          "Slovenia",
          "Burma",
          "Jordan",
          "Angola",
          "Syria",
          "Thailand",
          "Lithuania",
          "Gambia",
          "Somalia",
          "Trinidad and Tobago",
          "Sri Lanka",
          "Bahamas",
          "Mali",
          "Georgia",
          "Estonia",
          "South Sudan",
          "Malta",
          "Botswana",
          "Benin",
          "Guinea-Bissau",
          "Iceland",
          "Sierra Leone",
          "Yemen",
          "Guyana",
          "Uruguay",
          "New Zealand",
          "Burkina Faso",
          "Togo",
          "Cyprus",
          "Belize",
          "Latvia",
          "Andorra",
          "Liberia",
          "Lesotho",
          "Niger",
          "Chad",
          "Vietnam",
          "Sao Tome and Principe",
          "San Marino",
          "Diamond Princess",
          "Papua New Guinea",
          "Tanzania",
          "Taiwan*",
          "Burundi",
          "Comoros",
          "Mauritius",
          "Eritrea",
          "Mongolia",
          "Cambodia",
          "Bhutan",
          "Barbados",
          "Monaco",
          "Brunei",
          "Seychelles",
          "Liechtenstein",
          "Antigua and Barbuda",
          "Saint Vincent and the Grenadines",
          "Fiji",
          "Timor-Leste",
          "Saint Lucia",
          "Grenada",
          "Dominica",
          "Laos",
          "Saint Kitts and Nevis",
          "Holy See",
          "Western Sahara",
          "MS Zaandam"
         ],
         "marker": {
          "color": [
           6630051,
           5020359,
           4419083,
           1075485,
           738020,
           736377,
           680931,
           653444,
           614360,
           589012,
           443869,
           439287,
           410334,
           380677,
           342671,
           327551,
           303634,
           303059,
           296391,
           291442,
           272934,
           266869,
           228993,
           170465,
           166694,
           141852,
           128872,
           122449,
           121525,
           107056,
           107011,
           105521,
           103466,
           101500,
           96999,
           95948,
           92016,
           91196,
           90425,
           90253,
           87575,
           82924,
           81782,
           76997,
           75734,
           74763,
           69660,
           66224,
           65626,
           63416,
           62484,
           59516,
           58327,
           57514,
           56604,
           49015,
           48966,
           48265,
           46376,
           45655,
           45072,
           44361,
           41032,
           38855,
           38658,
           36301,
           35073,
           33006,
           32613,
           31799,
           30419,
           27163,
           26813,
           26083,
           24936,
           24211,
           22657,
           21013,
           20303,
           19132,
           18390,
           16088,
           15871,
           14568,
           14460,
           14041,
           14029,
           13887,
           13535,
           12683,
           12498,
           11816,
           10414,
           10154,
           10031,
           9964,
           9427,
           9171,
           8750,
           8678,
           8541,
           8100,
           7598,
           7394,
           7332,
           7291,
           5994,
           5860,
           5704,
           5399,
           5266,
           5155,
           5000,
           4978,
           4961,
           4934,
           4876,
           4782,
           4645,
           4634,
           4164,
           3954,
           3894,
           3852,
           3675,
           3654,
           3490,
           3442,
           3440,
           3390,
           3327,
           3271,
           3087,
           2966,
           2758,
           2756,
           2594,
           2560,
           2463,
           2280,
           2275,
           2189,
           2133,
           2019,
           1958,
           1856,
           1809,
           1748,
           1608,
           1548,
           1536,
           1486,
           1483,
           1332,
           1327,
           1182,
           1090,
           1063,
           907,
           723,
           712,
           516,
           509,
           500,
           472,
           467,
           365,
           364,
           311,
           275,
           246,
           185,
           181,
           145,
           140,
           111,
           95,
           64,
           32,
           27,
           27,
           24,
           24,
           23,
           17,
           12,
           10,
           9
          ],
          "coloraxis": "coloraxis",
          "size": [
           6630051,
           5020359,
           4419083,
           1075485,
           738020,
           736377,
           680931,
           653444,
           614360,
           589012,
           443869,
           439287,
           410334,
           380677,
           342671,
           327551,
           303634,
           303059,
           296391,
           291442,
           272934,
           266869,
           228993,
           170465,
           166694,
           141852,
           128872,
           122449,
           121525,
           107056,
           107011,
           105521,
           103466,
           101500,
           96999,
           95948,
           92016,
           91196,
           90425,
           90253,
           87575,
           82924,
           81782,
           76997,
           75734,
           74763,
           69660,
           66224,
           65626,
           63416,
           62484,
           59516,
           58327,
           57514,
           56604,
           49015,
           48966,
           48265,
           46376,
           45655,
           45072,
           44361,
           41032,
           38855,
           38658,
           36301,
           35073,
           33006,
           32613,
           31799,
           30419,
           27163,
           26813,
           26083,
           24936,
           24211,
           22657,
           21013,
           20303,
           19132,
           18390,
           16088,
           15871,
           14568,
           14460,
           14041,
           14029,
           13887,
           13535,
           12683,
           12498,
           11816,
           10414,
           10154,
           10031,
           9964,
           9427,
           9171,
           8750,
           8678,
           8541,
           8100,
           7598,
           7394,
           7332,
           7291,
           5994,
           5860,
           5704,
           5399,
           5266,
           5155,
           5000,
           4978,
           4961,
           4934,
           4876,
           4782,
           4645,
           4634,
           4164,
           3954,
           3894,
           3852,
           3675,
           3654,
           3490,
           3442,
           3440,
           3390,
           3327,
           3271,
           3087,
           2966,
           2758,
           2756,
           2594,
           2560,
           2463,
           2280,
           2275,
           2189,
           2133,
           2019,
           1958,
           1856,
           1809,
           1748,
           1608,
           1548,
           1536,
           1486,
           1483,
           1332,
           1327,
           1182,
           1090,
           1063,
           907,
           723,
           712,
           516,
           509,
           500,
           472,
           467,
           365,
           364,
           311,
           275,
           246,
           185,
           181,
           145,
           140,
           111,
           95,
           64,
           32,
           27,
           27,
           24,
           24,
           23,
           17,
           12,
           10,
           9
          ],
          "sizemode": "area",
          "sizeref": 4143.781875
         },
         "name": "",
         "showlegend": false,
         "type": "scattergeo"
        }
       ],
       "layout": {
        "coloraxis": {
         "colorbar": {
          "title": {
           "text": "Confirmed"
          }
         },
         "colorscale": [
          [
           0,
           "#0d0887"
          ],
          [
           0.1111111111111111,
           "#46039f"
          ],
          [
           0.2222222222222222,
           "#7201a8"
          ],
          [
           0.3333333333333333,
           "#9c179e"
          ],
          [
           0.4444444444444444,
           "#bd3786"
          ],
          [
           0.5555555555555556,
           "#d8576b"
          ],
          [
           0.6666666666666666,
           "#ed7953"
          ],
          [
           0.7777777777777778,
           "#fb9f3a"
          ],
          [
           0.8888888888888888,
           "#fdca26"
          ],
          [
           1,
           "#f0f921"
          ]
         ]
        },
        "geo": {
         "center": {},
         "domain": {
          "x": [
           0,
           1
          ],
          "y": [
           0,
           1
          ]
         }
        },
        "legend": {
         "itemsizing": "constant",
         "tracegroupgap": 0
        },
        "margin": {
         "t": 60
        },
        "template": {
         "data": {
          "bar": [
           {
            "error_x": {
             "color": "#f2f5fa"
            },
            "error_y": {
             "color": "#f2f5fa"
            },
            "marker": {
             "line": {
              "color": "rgb(17,17,17)",
              "width": 0.5
             }
            },
            "type": "bar"
           }
          ],
          "barpolar": [
           {
            "marker": {
             "line": {
              "color": "rgb(17,17,17)",
              "width": 0.5
             }
            },
            "type": "barpolar"
           }
          ],
          "carpet": [
           {
            "aaxis": {
             "endlinecolor": "#A2B1C6",
             "gridcolor": "#506784",
             "linecolor": "#506784",
             "minorgridcolor": "#506784",
             "startlinecolor": "#A2B1C6"
            },
            "baxis": {
             "endlinecolor": "#A2B1C6",
             "gridcolor": "#506784",
             "linecolor": "#506784",
             "minorgridcolor": "#506784",
             "startlinecolor": "#A2B1C6"
            },
            "type": "carpet"
           }
          ],
          "choropleth": [
           {
            "colorbar": {
             "outlinewidth": 0,
             "ticks": ""
            },
            "type": "choropleth"
           }
          ],
          "contour": [
           {
            "colorbar": {
             "outlinewidth": 0,
             "ticks": ""
            },
            "colorscale": [
             [
              0,
              "#0d0887"
             ],
             [
              0.1111111111111111,
              "#46039f"
             ],
             [
              0.2222222222222222,
              "#7201a8"
             ],
             [
              0.3333333333333333,
              "#9c179e"
             ],
             [
              0.4444444444444444,
              "#bd3786"
             ],
             [
              0.5555555555555556,
              "#d8576b"
             ],
             [
              0.6666666666666666,
              "#ed7953"
             ],
             [
              0.7777777777777778,
              "#fb9f3a"
             ],
             [
              0.8888888888888888,
              "#fdca26"
             ],
             [
              1,
              "#f0f921"
             ]
            ],
            "type": "contour"
           }
          ],
          "contourcarpet": [
           {
            "colorbar": {
             "outlinewidth": 0,
             "ticks": ""
            },
            "type": "contourcarpet"
           }
          ],
          "heatmap": [
           {
            "colorbar": {
             "outlinewidth": 0,
             "ticks": ""
            },
            "colorscale": [
             [
              0,
              "#0d0887"
             ],
             [
              0.1111111111111111,
              "#46039f"
             ],
             [
              0.2222222222222222,
              "#7201a8"
             ],
             [
              0.3333333333333333,
              "#9c179e"
             ],
             [
              0.4444444444444444,
              "#bd3786"
             ],
             [
              0.5555555555555556,
              "#d8576b"
             ],
             [
              0.6666666666666666,
              "#ed7953"
             ],
             [
              0.7777777777777778,
              "#fb9f3a"
             ],
             [
              0.8888888888888888,
              "#fdca26"
             ],
             [
              1,
              "#f0f921"
             ]
            ],
            "type": "heatmap"
           }
          ],
          "heatmapgl": [
           {
            "colorbar": {
             "outlinewidth": 0,
             "ticks": ""
            },
            "colorscale": [
             [
              0,
              "#0d0887"
             ],
             [
              0.1111111111111111,
              "#46039f"
             ],
             [
              0.2222222222222222,
              "#7201a8"
             ],
             [
              0.3333333333333333,
              "#9c179e"
             ],
             [
              0.4444444444444444,
              "#bd3786"
             ],
             [
              0.5555555555555556,
              "#d8576b"
             ],
             [
              0.6666666666666666,
              "#ed7953"
             ],
             [
              0.7777777777777778,
              "#fb9f3a"
             ],
             [
              0.8888888888888888,
              "#fdca26"
             ],
             [
              1,
              "#f0f921"
             ]
            ],
            "type": "heatmapgl"
           }
          ],
          "histogram": [
           {
            "marker": {
             "colorbar": {
              "outlinewidth": 0,
              "ticks": ""
             }
            },
            "type": "histogram"
           }
          ],
          "histogram2d": [
           {
            "colorbar": {
             "outlinewidth": 0,
             "ticks": ""
            },
            "colorscale": [
             [
              0,
              "#0d0887"
             ],
             [
              0.1111111111111111,
              "#46039f"
             ],
             [
              0.2222222222222222,
              "#7201a8"
             ],
             [
              0.3333333333333333,
              "#9c179e"
             ],
             [
              0.4444444444444444,
              "#bd3786"
             ],
             [
              0.5555555555555556,
              "#d8576b"
             ],
             [
              0.6666666666666666,
              "#ed7953"
             ],
             [
              0.7777777777777778,
              "#fb9f3a"
             ],
             [
              0.8888888888888888,
              "#fdca26"
             ],
             [
              1,
              "#f0f921"
             ]
            ],
            "type": "histogram2d"
           }
          ],
          "histogram2dcontour": [
           {
            "colorbar": {
             "outlinewidth": 0,
             "ticks": ""
            },
            "colorscale": [
             [
              0,
              "#0d0887"
             ],
             [
              0.1111111111111111,
              "#46039f"
             ],
             [
              0.2222222222222222,
              "#7201a8"
             ],
             [
              0.3333333333333333,
              "#9c179e"
             ],
             [
              0.4444444444444444,
              "#bd3786"
             ],
             [
              0.5555555555555556,
              "#d8576b"
             ],
             [
              0.6666666666666666,
              "#ed7953"
             ],
             [
              0.7777777777777778,
              "#fb9f3a"
             ],
             [
              0.8888888888888888,
              "#fdca26"
             ],
             [
              1,
              "#f0f921"
             ]
            ],
            "type": "histogram2dcontour"
           }
          ],
          "mesh3d": [
           {
            "colorbar": {
             "outlinewidth": 0,
             "ticks": ""
            },
            "type": "mesh3d"
           }
          ],
          "parcoords": [
           {
            "line": {
             "colorbar": {
              "outlinewidth": 0,
              "ticks": ""
             }
            },
            "type": "parcoords"
           }
          ],
          "pie": [
           {
            "automargin": true,
            "type": "pie"
           }
          ],
          "scatter": [
           {
            "marker": {
             "line": {
              "color": "#283442"
             }
            },
            "type": "scatter"
           }
          ],
          "scatter3d": [
           {
            "line": {
             "colorbar": {
              "outlinewidth": 0,
              "ticks": ""
             }
            },
            "marker": {
             "colorbar": {
              "outlinewidth": 0,
              "ticks": ""
             }
            },
            "type": "scatter3d"
           }
          ],
          "scattercarpet": [
           {
            "marker": {
             "colorbar": {
              "outlinewidth": 0,
              "ticks": ""
             }
            },
            "type": "scattercarpet"
           }
          ],
          "scattergeo": [
           {
            "marker": {
             "colorbar": {
              "outlinewidth": 0,
              "ticks": ""
             }
            },
            "type": "scattergeo"
           }
          ],
          "scattergl": [
           {
            "marker": {
             "line": {
              "color": "#283442"
             }
            },
            "type": "scattergl"
           }
          ],
          "scattermapbox": [
           {
            "marker": {
             "colorbar": {
              "outlinewidth": 0,
              "ticks": ""
             }
            },
            "type": "scattermapbox"
           }
          ],
          "scatterpolar": [
           {
            "marker": {
             "colorbar": {
              "outlinewidth": 0,
              "ticks": ""
             }
            },
            "type": "scatterpolar"
           }
          ],
          "scatterpolargl": [
           {
            "marker": {
             "colorbar": {
              "outlinewidth": 0,
              "ticks": ""
             }
            },
            "type": "scatterpolargl"
           }
          ],
          "scatterternary": [
           {
            "marker": {
             "colorbar": {
              "outlinewidth": 0,
              "ticks": ""
             }
            },
            "type": "scatterternary"
           }
          ],
          "surface": [
           {
            "colorbar": {
             "outlinewidth": 0,
             "ticks": ""
            },
            "colorscale": [
             [
              0,
              "#0d0887"
             ],
             [
              0.1111111111111111,
              "#46039f"
             ],
             [
              0.2222222222222222,
              "#7201a8"
             ],
             [
              0.3333333333333333,
              "#9c179e"
             ],
             [
              0.4444444444444444,
              "#bd3786"
             ],
             [
              0.5555555555555556,
              "#d8576b"
             ],
             [
              0.6666666666666666,
              "#ed7953"
             ],
             [
              0.7777777777777778,
              "#fb9f3a"
             ],
             [
              0.8888888888888888,
              "#fdca26"
             ],
             [
              1,
              "#f0f921"
             ]
            ],
            "type": "surface"
           }
          ],
          "table": [
           {
            "cells": {
             "fill": {
              "color": "#506784"
             },
             "line": {
              "color": "rgb(17,17,17)"
             }
            },
            "header": {
             "fill": {
              "color": "#2a3f5f"
             },
             "line": {
              "color": "rgb(17,17,17)"
             }
            },
            "type": "table"
           }
          ]
         },
         "layout": {
          "annotationdefaults": {
           "arrowcolor": "#f2f5fa",
           "arrowhead": 0,
           "arrowwidth": 1
          },
          "coloraxis": {
           "colorbar": {
            "outlinewidth": 0,
            "ticks": ""
           }
          },
          "colorscale": {
           "diverging": [
            [
             0,
             "#8e0152"
            ],
            [
             0.1,
             "#c51b7d"
            ],
            [
             0.2,
             "#de77ae"
            ],
            [
             0.3,
             "#f1b6da"
            ],
            [
             0.4,
             "#fde0ef"
            ],
            [
             0.5,
             "#f7f7f7"
            ],
            [
             0.6,
             "#e6f5d0"
            ],
            [
             0.7,
             "#b8e186"
            ],
            [
             0.8,
             "#7fbc41"
            ],
            [
             0.9,
             "#4d9221"
            ],
            [
             1,
             "#276419"
            ]
           ],
           "sequential": [
            [
             0,
             "#0d0887"
            ],
            [
             0.1111111111111111,
             "#46039f"
            ],
            [
             0.2222222222222222,
             "#7201a8"
            ],
            [
             0.3333333333333333,
             "#9c179e"
            ],
            [
             0.4444444444444444,
             "#bd3786"
            ],
            [
             0.5555555555555556,
             "#d8576b"
            ],
            [
             0.6666666666666666,
             "#ed7953"
            ],
            [
             0.7777777777777778,
             "#fb9f3a"
            ],
            [
             0.8888888888888888,
             "#fdca26"
            ],
            [
             1,
             "#f0f921"
            ]
           ],
           "sequentialminus": [
            [
             0,
             "#0d0887"
            ],
            [
             0.1111111111111111,
             "#46039f"
            ],
            [
             0.2222222222222222,
             "#7201a8"
            ],
            [
             0.3333333333333333,
             "#9c179e"
            ],
            [
             0.4444444444444444,
             "#bd3786"
            ],
            [
             0.5555555555555556,
             "#d8576b"
            ],
            [
             0.6666666666666666,
             "#ed7953"
            ],
            [
             0.7777777777777778,
             "#fb9f3a"
            ],
            [
             0.8888888888888888,
             "#fdca26"
            ],
            [
             1,
             "#f0f921"
            ]
           ]
          },
          "colorway": [
           "#636efa",
           "#EF553B",
           "#00cc96",
           "#ab63fa",
           "#FFA15A",
           "#19d3f3",
           "#FF6692",
           "#B6E880",
           "#FF97FF",
           "#FECB52"
          ],
          "font": {
           "color": "#f2f5fa"
          },
          "geo": {
           "bgcolor": "rgb(17,17,17)",
           "lakecolor": "rgb(17,17,17)",
           "landcolor": "rgb(17,17,17)",
           "showlakes": true,
           "showland": true,
           "subunitcolor": "#506784"
          },
          "hoverlabel": {
           "align": "left"
          },
          "hovermode": "closest",
          "mapbox": {
           "style": "dark"
          },
          "paper_bgcolor": "rgb(17,17,17)",
          "plot_bgcolor": "rgb(17,17,17)",
          "polar": {
           "angularaxis": {
            "gridcolor": "#506784",
            "linecolor": "#506784",
            "ticks": ""
           },
           "bgcolor": "rgb(17,17,17)",
           "radialaxis": {
            "gridcolor": "#506784",
            "linecolor": "#506784",
            "ticks": ""
           }
          },
          "scene": {
           "xaxis": {
            "backgroundcolor": "rgb(17,17,17)",
            "gridcolor": "#506784",
            "gridwidth": 2,
            "linecolor": "#506784",
            "showbackground": true,
            "ticks": "",
            "zerolinecolor": "#C8D4E3"
           },
           "yaxis": {
            "backgroundcolor": "rgb(17,17,17)",
            "gridcolor": "#506784",
            "gridwidth": 2,
            "linecolor": "#506784",
            "showbackground": true,
            "ticks": "",
            "zerolinecolor": "#C8D4E3"
           },
           "zaxis": {
            "backgroundcolor": "rgb(17,17,17)",
            "gridcolor": "#506784",
            "gridwidth": 2,
            "linecolor": "#506784",
            "showbackground": true,
            "ticks": "",
            "zerolinecolor": "#C8D4E3"
           }
          },
          "shapedefaults": {
           "line": {
            "color": "#f2f5fa"
           }
          },
          "sliderdefaults": {
           "bgcolor": "#C8D4E3",
           "bordercolor": "rgb(17,17,17)",
           "borderwidth": 1,
           "tickwidth": 0
          },
          "ternary": {
           "aaxis": {
            "gridcolor": "#506784",
            "linecolor": "#506784",
            "ticks": ""
           },
           "baxis": {
            "gridcolor": "#506784",
            "linecolor": "#506784",
            "ticks": ""
           },
           "bgcolor": "rgb(17,17,17)",
           "caxis": {
            "gridcolor": "#506784",
            "linecolor": "#506784",
            "ticks": ""
           }
          },
          "title": {
           "x": 0.05
          },
          "updatemenudefaults": {
           "bgcolor": "#506784",
           "borderwidth": 0
          },
          "xaxis": {
           "automargin": true,
           "gridcolor": "#283442",
           "linecolor": "#506784",
           "ticks": "",
           "title": {
            "standoff": 15
           },
           "zerolinecolor": "#283442",
           "zerolinewidth": 2
          },
          "yaxis": {
           "automargin": true,
           "gridcolor": "#283442",
           "linecolor": "#506784",
           "ticks": "",
           "title": {
            "standoff": 15
           },
           "zerolinecolor": "#283442",
           "zerolinewidth": 2
          }
         }
        }
       }
      },
      "text/html": [
       "<div>                            <div id=\"f423ff30-a56b-4365-9217-403b497e2e64\" class=\"plotly-graph-div\" style=\"height:525px; width:100%;\"></div>            <script type=\"text/javascript\">                require([\"plotly\"], function(Plotly) {                    window.PLOTLYENV=window.PLOTLYENV || {};                                    if (document.getElementById(\"f423ff30-a56b-4365-9217-403b497e2e64\")) {                    Plotly.newPlot(                        \"f423ff30-a56b-4365-9217-403b497e2e64\",                        [{\"customdata\": [[6630051, 2525573, 196763, \"US\"], [5020359, 3942360, 82066, \"India\"], [4419083, 3845464, 134106, \"Brazil\"], [1075485, 887457, 18853, \"Russia\"], [738020, 580753, 30927, \"Peru\"], [736377, 610078, 23478, \"Colombia\"], [680931, 574203, 71978, \"Mexico\"], [653444, 584195, 15705, \"South Africa\"], [614360, 150376, 30243, \"Spain\"], [589012, 448263, 12116, \"Argentina\"], [443869, 91293, 31056, \"France\"], [439287, 411853, 12058, \"Chile\"], [410334, 352019, 23632, \"Iran\"], [380677, 2190, 41773, \"United Kingdom\"], [342671, 247969, 4823, \"Bangladesh\"], [327551, 306004, 4369, \"Saudi Arabia\"], [303634, 291169, 6399, \"Pakistan\"], [303059, 237241, 8248, \"Iraq\"], [296391, 262602, 7249, \"Turkey\"], [291442, 215265, 35645, \"Italy\"], [272934, 207858, 4732, \"Philippines\"], [266869, 236623, 9373, \"Germany\"], [228993, 164101, 9100, \"Indonesia\"], [170465, 123219, 1165, \"Israel\"], [166694, 74981, 3404, \"Ukraine\"], [141852, 124412, 9244, \"Canada\"], [128872, 87031, 7478, \"Bolivia\"], [122449, 119400, 208, \"Qatar\"], [121525, 97063, 10996, \"Ecuador\"], [107056, 101455, 1671, \"Kazakhstan\"], [107011, 43244, 4285, \"Romania\"], [105521, 78891, 2009, \"Dominican Republic\"], [103466, 76787, 2198, \"Panama\"], [101500, 86549, 5696, \"Egypt\"], [96999, 87187, 571, \"Kuwait\"], [95948, 18810, 9935, \"Belgium\"], [92016, 72968, 1686, \"Morocco\"], [91196, 84363, 805, \"Oman\"], [90425, 2238, 6303, \"Netherlands\"], [90253, 85155, 4736, \"China\"], [87575, 0, 5860, \"Sweden\"], [82924, 72562, 3009, \"Guatemala\"], [81782, 71456, 402, \"United Arab Emirates\"], [76997, 68110, 1481, \"Japan\"], [75734, 62110, 2237, \"Poland\"], [74763, 72810, 767, \"Belarus\"], [69660, 19983, 2102, \"Honduras\"], [66224, 26665, 1045, \"Ethiopia\"], [65626, 44528, 1878, \"Portugal\"], [63416, 51274, 511, \"Venezuela\"], [62484, 55444, 216, \"Bahrain\"], [59516, 21752, 649, \"Costa Rica\"], [58327, 41706, 379, \"Nepal\"], [57514, 56955, 27, \"Singapore\"], [56604, 47872, 1091, \"Nigeria\"], [49015, 45422, 407, \"Uzbekistan\"], [48966, 34517, 1645, \"Algeria\"], [48265, 39900, 2039, \"Switzerland\"], [46376, 42069, 923, \"Armenia\"], [45655, 44797, 294, \"Ghana\"], [45072, 41210, 1063, \"Kyrgyzstan\"], [44361, 32732, 1159, \"Moldova\"], [41032, 22931, 482, \"Czechia\"], [38855, 32503, 1436, \"Afghanistan\"], [38658, 36149, 569, \"Azerbaijan\"], [36301, 23364, 634, \"Kenya\"], [35073, 27655, 758, \"Austria\"], [33006, 22209, 243, \"West Bank and Gaza\"], [32613, 0, 736, \"Serbia\"], [31799, 23364, 1788, \"Ireland\"], [30419, 15740, 566, \"Paraguay\"], [27163, 19960, 796, \"El Salvador\"], [26813, 23790, 832, \"Australia\"], [26083, 9634, 259, \"Lebanon\"], [24936, 13498, 394, \"Libya\"], [24211, 16990, 736, \"Bosnia and Herzegovina\"], [22657, 19543, 372, \"Korea, South\"], [21013, 16983, 633, \"Denmark\"], [20303, 18837, 415, \"Cameroon\"], [19132, 18289, 120, \"Cote d'Ivoire\"], [18390, 13241, 739, \"Bulgaria\"], [16088, 13550, 668, \"North Macedonia\"], [15871, 14482, 215, \"Madagascar\"], [14568, 10756, 299, \"Senegal\"], [14460, 4153, 654, \"Hungary\"], [14041, 1347, 316, \"Greece\"], [14029, 11690, 236, \"Croatia\"], [13887, 12869, 326, \"Zambia\"], [13535, 6759, 836, \"Sudan\"], [12683, 8788, 488, \"Kosovo\"], [12498, 10371, 265, \"Norway\"], [11816, 6733, 343, \"Albania\"], [10414, 9827, 267, \"Congo (Kinshasa)\"], [10154, 9612, 63, \"Guinea\"], [10031, 9235, 128, \"Malaysia\"], [9964, 7502, 108, \"Namibia\"], [9427, 7903, 33, \"Maldives\"], [9171, 7941, 73, \"Tajikistan\"], [8750, 7700, 339, \"Finland\"], [8678, 7827, 53, \"Gabon\"], [8541, 6258, 220, \"Haiti\"], [8100, 2309, 129, \"Tunisia\"], [7598, 5823, 224, \"Zimbabwe\"], [7394, 6593, 124, \"Luxembourg\"], [7332, 6844, 161, \"Mauritania\"], [7291, 4764, 126, \"Montenegro\"], [5994, 3267, 39, \"Mozambique\"], [5860, 3220, 38, \"Slovakia\"], [5704, 3764, 178, \"Malawi\"], [5399, 5333, 61, \"Djibouti\"], [5266, 2404, 60, \"Uganda\"], [5155, 4418, 101, \"Eswatini\"], [5000, 4496, 83, \"Equatorial Guinea\"], [4978, 4430, 47, \"Cabo Verde\"], [4961, 2913, 147, \"Nicaragua\"], [4934, 3887, 88, \"Congo (Brazzaville)\"], [4876, 4131, 109, \"Cuba\"], [4782, 1830, 62, \"Central African Republic\"], [4645, 4089, 95, \"Suriname\"], [4634, 2789, 22, \"Rwanda\"], [4164, 1180, 46, \"Jamaica\"], [3954, 2844, 135, \"Slovenia\"], [3894, 908, 46, \"Burma\"], [3852, 2349, 26, \"Jordan\"], [3675, 1401, 143, \"Angola\"], [3654, 889, 163, \"Syria\"], [3490, 3325, 58, \"Thailand\"], [3442, 2125, 87, \"Lithuania\"], [3440, 1851, 107, \"Gambia\"], [3390, 2812, 98, \"Somalia\"], [3327, 810, 58, \"Trinidad and Tobago\"], [3271, 3021, 13, \"Sri Lanka\"], [3087, 1533, 69, \"Bahamas\"], [2966, 2311, 128, \"Mali\"], [2758, 1412, 19, \"Georgia\"], [2756, 2318, 64, \"Estonia\"], [2594, 1290, 49, \"South Sudan\"], [2560, 1953, 16, \"Malta\"], [2463, 575, 11, \"Botswana\"], [2280, 1942, 40, \"Benin\"], [2275, 1127, 39, \"Guinea-Bissau\"], [2189, 2104, 10, \"Iceland\"], [2133, 1646, 72, \"Sierra Leone\"], [2019, 1221, 583, \"Yemen\"], [1958, 1302, 58, \"Guyana\"], [1856, 1559, 45, \"Uruguay\"], [1809, 1707, 25, \"New Zealand\"], [1748, 1162, 56, \"Burkina Faso\"], [1608, 1230, 40, \"Togo\"], [1548, 1282, 22, \"Cyprus\"], [1536, 696, 19, \"Belize\"], [1486, 1248, 35, \"Latvia\"], [1483, 1054, 53, \"Andorra\"], [1332, 1214, 82, \"Liberia\"], [1327, 687, 33, \"Lesotho\"], [1182, 1104, 69, \"Niger\"], [1090, 960, 81, \"Chad\"], [1063, 936, 35, \"Vietnam\"], [907, 871, 15, \"Sao Tome and Principe\"], [723, 663, 42, \"San Marino\"], [712, 651, 13, \"Diamond Princess\"], [516, 232, 6, \"Papua New Guinea\"], [509, 183, 21, \"Tanzania\"], [500, 477, 7, \"Taiwan*\"], [472, 374, 1, \"Burundi\"], [467, 446, 7, \"Comoros\"], [365, 338, 10, \"Mauritius\"], [364, 305, 0, \"Eritrea\"], [311, 301, 0, \"Mongolia\"], [275, 274, 0, \"Cambodia\"], [246, 175, 0, \"Bhutan\"], [185, 171, 7, \"Barbados\"], [181, 137, 1, \"Monaco\"], [145, 139, 3, \"Brunei\"], [140, 136, 0, \"Seychelles\"], [111, 105, 1, \"Liechtenstein\"], [95, 91, 3, \"Antigua and Barbuda\"], [64, 62, 0, \"Saint Vincent and the Grenadines\"], [32, 24, 2, \"Fiji\"], [27, 26, 0, \"Timor-Leste\"], [27, 26, 0, \"Saint Lucia\"], [24, 24, 0, \"Grenada\"], [24, 18, 0, \"Dominica\"], [23, 22, 0, \"Laos\"], [17, 17, 0, \"Saint Kitts and Nevis\"], [12, 12, 0, \"Holy See\"], [10, 8, 1, \"Western Sahara\"], [9, 0, 2, \"MS Zaandam\"]], \"geo\": \"geo\", \"hovertemplate\": \"<b>%{hovertext}</b><br><br>Confirmed=%{marker.color:,2f}<br>Recovered=%{customdata[1]:,2f}<br>Deaths=%{customdata[2]:,2f}<extra></extra>\", \"hovertext\": [\"US\", \"India\", \"Brazil\", \"Russia\", \"Peru\", \"Colombia\", \"Mexico\", \"South Africa\", \"Spain\", \"Argentina\", \"France\", \"Chile\", \"Iran\", \"United Kingdom\", \"Bangladesh\", \"Saudi Arabia\", \"Pakistan\", \"Iraq\", \"Turkey\", \"Italy\", \"Philippines\", \"Germany\", \"Indonesia\", \"Israel\", \"Ukraine\", \"Canada\", \"Bolivia\", \"Qatar\", \"Ecuador\", \"Kazakhstan\", \"Romania\", \"Dominican Republic\", \"Panama\", \"Egypt\", \"Kuwait\", \"Belgium\", \"Morocco\", \"Oman\", \"Netherlands\", \"China\", \"Sweden\", \"Guatemala\", \"United Arab Emirates\", \"Japan\", \"Poland\", \"Belarus\", \"Honduras\", \"Ethiopia\", \"Portugal\", \"Venezuela\", \"Bahrain\", \"Costa Rica\", \"Nepal\", \"Singapore\", \"Nigeria\", \"Uzbekistan\", \"Algeria\", \"Switzerland\", \"Armenia\", \"Ghana\", \"Kyrgyzstan\", \"Moldova\", \"Czechia\", \"Afghanistan\", \"Azerbaijan\", \"Kenya\", \"Austria\", \"West Bank and Gaza\", \"Serbia\", \"Ireland\", \"Paraguay\", \"El Salvador\", \"Australia\", \"Lebanon\", \"Libya\", \"Bosnia and Herzegovina\", \"Korea, South\", \"Denmark\", \"Cameroon\", \"Cote d'Ivoire\", \"Bulgaria\", \"North Macedonia\", \"Madagascar\", \"Senegal\", \"Hungary\", \"Greece\", \"Croatia\", \"Zambia\", \"Sudan\", \"Kosovo\", \"Norway\", \"Albania\", \"Congo (Kinshasa)\", \"Guinea\", \"Malaysia\", \"Namibia\", \"Maldives\", \"Tajikistan\", \"Finland\", \"Gabon\", \"Haiti\", \"Tunisia\", \"Zimbabwe\", \"Luxembourg\", \"Mauritania\", \"Montenegro\", \"Mozambique\", \"Slovakia\", \"Malawi\", \"Djibouti\", \"Uganda\", \"Eswatini\", \"Equatorial Guinea\", \"Cabo Verde\", \"Nicaragua\", \"Congo (Brazzaville)\", \"Cuba\", \"Central African Republic\", \"Suriname\", \"Rwanda\", \"Jamaica\", \"Slovenia\", \"Burma\", \"Jordan\", \"Angola\", \"Syria\", \"Thailand\", \"Lithuania\", \"Gambia\", \"Somalia\", \"Trinidad and Tobago\", \"Sri Lanka\", \"Bahamas\", \"Mali\", \"Georgia\", \"Estonia\", \"South Sudan\", \"Malta\", \"Botswana\", \"Benin\", \"Guinea-Bissau\", \"Iceland\", \"Sierra Leone\", \"Yemen\", \"Guyana\", \"Uruguay\", \"New Zealand\", \"Burkina Faso\", \"Togo\", \"Cyprus\", \"Belize\", \"Latvia\", \"Andorra\", \"Liberia\", \"Lesotho\", \"Niger\", \"Chad\", \"Vietnam\", \"Sao Tome and Principe\", \"San Marino\", \"Diamond Princess\", \"Papua New Guinea\", \"Tanzania\", \"Taiwan*\", \"Burundi\", \"Comoros\", \"Mauritius\", \"Eritrea\", \"Mongolia\", \"Cambodia\", \"Bhutan\", \"Barbados\", \"Monaco\", \"Brunei\", \"Seychelles\", \"Liechtenstein\", \"Antigua and Barbuda\", \"Saint Vincent and the Grenadines\", \"Fiji\", \"Timor-Leste\", \"Saint Lucia\", \"Grenada\", \"Dominica\", \"Laos\", \"Saint Kitts and Nevis\", \"Holy See\", \"Western Sahara\", \"MS Zaandam\"], \"legendgroup\": \"\", \"locationmode\": \"country names\", \"locations\": [\"US\", \"India\", \"Brazil\", \"Russia\", \"Peru\", \"Colombia\", \"Mexico\", \"South Africa\", \"Spain\", \"Argentina\", \"France\", \"Chile\", \"Iran\", \"United Kingdom\", \"Bangladesh\", \"Saudi Arabia\", \"Pakistan\", \"Iraq\", \"Turkey\", \"Italy\", \"Philippines\", \"Germany\", \"Indonesia\", \"Israel\", \"Ukraine\", \"Canada\", \"Bolivia\", \"Qatar\", \"Ecuador\", \"Kazakhstan\", \"Romania\", \"Dominican Republic\", \"Panama\", \"Egypt\", \"Kuwait\", \"Belgium\", \"Morocco\", \"Oman\", \"Netherlands\", \"China\", \"Sweden\", \"Guatemala\", \"United Arab Emirates\", \"Japan\", \"Poland\", \"Belarus\", \"Honduras\", \"Ethiopia\", \"Portugal\", \"Venezuela\", \"Bahrain\", \"Costa Rica\", \"Nepal\", \"Singapore\", \"Nigeria\", \"Uzbekistan\", \"Algeria\", \"Switzerland\", \"Armenia\", \"Ghana\", \"Kyrgyzstan\", \"Moldova\", \"Czechia\", \"Afghanistan\", \"Azerbaijan\", \"Kenya\", \"Austria\", \"West Bank and Gaza\", \"Serbia\", \"Ireland\", \"Paraguay\", \"El Salvador\", \"Australia\", \"Lebanon\", \"Libya\", \"Bosnia and Herzegovina\", \"Korea, South\", \"Denmark\", \"Cameroon\", \"Cote d'Ivoire\", \"Bulgaria\", \"North Macedonia\", \"Madagascar\", \"Senegal\", \"Hungary\", \"Greece\", \"Croatia\", \"Zambia\", \"Sudan\", \"Kosovo\", \"Norway\", \"Albania\", \"Congo (Kinshasa)\", \"Guinea\", \"Malaysia\", \"Namibia\", \"Maldives\", \"Tajikistan\", \"Finland\", \"Gabon\", \"Haiti\", \"Tunisia\", \"Zimbabwe\", \"Luxembourg\", \"Mauritania\", \"Montenegro\", \"Mozambique\", \"Slovakia\", \"Malawi\", \"Djibouti\", \"Uganda\", \"Eswatini\", \"Equatorial Guinea\", \"Cabo Verde\", \"Nicaragua\", \"Congo (Brazzaville)\", \"Cuba\", \"Central African Republic\", \"Suriname\", \"Rwanda\", \"Jamaica\", \"Slovenia\", \"Burma\", \"Jordan\", \"Angola\", \"Syria\", \"Thailand\", \"Lithuania\", \"Gambia\", \"Somalia\", \"Trinidad and Tobago\", \"Sri Lanka\", \"Bahamas\", \"Mali\", \"Georgia\", \"Estonia\", \"South Sudan\", \"Malta\", \"Botswana\", \"Benin\", \"Guinea-Bissau\", \"Iceland\", \"Sierra Leone\", \"Yemen\", \"Guyana\", \"Uruguay\", \"New Zealand\", \"Burkina Faso\", \"Togo\", \"Cyprus\", \"Belize\", \"Latvia\", \"Andorra\", \"Liberia\", \"Lesotho\", \"Niger\", \"Chad\", \"Vietnam\", \"Sao Tome and Principe\", \"San Marino\", \"Diamond Princess\", \"Papua New Guinea\", \"Tanzania\", \"Taiwan*\", \"Burundi\", \"Comoros\", \"Mauritius\", \"Eritrea\", \"Mongolia\", \"Cambodia\", \"Bhutan\", \"Barbados\", \"Monaco\", \"Brunei\", \"Seychelles\", \"Liechtenstein\", \"Antigua and Barbuda\", \"Saint Vincent and the Grenadines\", \"Fiji\", \"Timor-Leste\", \"Saint Lucia\", \"Grenada\", \"Dominica\", \"Laos\", \"Saint Kitts and Nevis\", \"Holy See\", \"Western Sahara\", \"MS Zaandam\"], \"marker\": {\"color\": [6630051, 5020359, 4419083, 1075485, 738020, 736377, 680931, 653444, 614360, 589012, 443869, 439287, 410334, 380677, 342671, 327551, 303634, 303059, 296391, 291442, 272934, 266869, 228993, 170465, 166694, 141852, 128872, 122449, 121525, 107056, 107011, 105521, 103466, 101500, 96999, 95948, 92016, 91196, 90425, 90253, 87575, 82924, 81782, 76997, 75734, 74763, 69660, 66224, 65626, 63416, 62484, 59516, 58327, 57514, 56604, 49015, 48966, 48265, 46376, 45655, 45072, 44361, 41032, 38855, 38658, 36301, 35073, 33006, 32613, 31799, 30419, 27163, 26813, 26083, 24936, 24211, 22657, 21013, 20303, 19132, 18390, 16088, 15871, 14568, 14460, 14041, 14029, 13887, 13535, 12683, 12498, 11816, 10414, 10154, 10031, 9964, 9427, 9171, 8750, 8678, 8541, 8100, 7598, 7394, 7332, 7291, 5994, 5860, 5704, 5399, 5266, 5155, 5000, 4978, 4961, 4934, 4876, 4782, 4645, 4634, 4164, 3954, 3894, 3852, 3675, 3654, 3490, 3442, 3440, 3390, 3327, 3271, 3087, 2966, 2758, 2756, 2594, 2560, 2463, 2280, 2275, 2189, 2133, 2019, 1958, 1856, 1809, 1748, 1608, 1548, 1536, 1486, 1483, 1332, 1327, 1182, 1090, 1063, 907, 723, 712, 516, 509, 500, 472, 467, 365, 364, 311, 275, 246, 185, 181, 145, 140, 111, 95, 64, 32, 27, 27, 24, 24, 23, 17, 12, 10, 9], \"coloraxis\": \"coloraxis\", \"size\": [6630051, 5020359, 4419083, 1075485, 738020, 736377, 680931, 653444, 614360, 589012, 443869, 439287, 410334, 380677, 342671, 327551, 303634, 303059, 296391, 291442, 272934, 266869, 228993, 170465, 166694, 141852, 128872, 122449, 121525, 107056, 107011, 105521, 103466, 101500, 96999, 95948, 92016, 91196, 90425, 90253, 87575, 82924, 81782, 76997, 75734, 74763, 69660, 66224, 65626, 63416, 62484, 59516, 58327, 57514, 56604, 49015, 48966, 48265, 46376, 45655, 45072, 44361, 41032, 38855, 38658, 36301, 35073, 33006, 32613, 31799, 30419, 27163, 26813, 26083, 24936, 24211, 22657, 21013, 20303, 19132, 18390, 16088, 15871, 14568, 14460, 14041, 14029, 13887, 13535, 12683, 12498, 11816, 10414, 10154, 10031, 9964, 9427, 9171, 8750, 8678, 8541, 8100, 7598, 7394, 7332, 7291, 5994, 5860, 5704, 5399, 5266, 5155, 5000, 4978, 4961, 4934, 4876, 4782, 4645, 4634, 4164, 3954, 3894, 3852, 3675, 3654, 3490, 3442, 3440, 3390, 3327, 3271, 3087, 2966, 2758, 2756, 2594, 2560, 2463, 2280, 2275, 2189, 2133, 2019, 1958, 1856, 1809, 1748, 1608, 1548, 1536, 1486, 1483, 1332, 1327, 1182, 1090, 1063, 907, 723, 712, 516, 509, 500, 472, 467, 365, 364, 311, 275, 246, 185, 181, 145, 140, 111, 95, 64, 32, 27, 27, 24, 24, 23, 17, 12, 10, 9], \"sizemode\": \"area\", \"sizeref\": 4143.781875}, \"name\": \"\", \"showlegend\": false, \"type\": \"scattergeo\"}],                        {\"coloraxis\": {\"colorbar\": {\"title\": {\"text\": \"Confirmed\"}}, \"colorscale\": [[0.0, \"#0d0887\"], [0.1111111111111111, \"#46039f\"], [0.2222222222222222, \"#7201a8\"], [0.3333333333333333, \"#9c179e\"], [0.4444444444444444, \"#bd3786\"], [0.5555555555555556, \"#d8576b\"], [0.6666666666666666, \"#ed7953\"], [0.7777777777777778, \"#fb9f3a\"], [0.8888888888888888, \"#fdca26\"], [1.0, \"#f0f921\"]]}, \"geo\": {\"center\": {}, \"domain\": {\"x\": [0.0, 1.0], \"y\": [0.0, 1.0]}}, \"legend\": {\"itemsizing\": \"constant\", \"tracegroupgap\": 0}, \"margin\": {\"t\": 60}, \"template\": {\"data\": {\"bar\": [{\"error_x\": {\"color\": \"#f2f5fa\"}, \"error_y\": {\"color\": \"#f2f5fa\"}, \"marker\": {\"line\": {\"color\": \"rgb(17,17,17)\", \"width\": 0.5}}, \"type\": \"bar\"}], \"barpolar\": [{\"marker\": {\"line\": {\"color\": \"rgb(17,17,17)\", \"width\": 0.5}}, \"type\": \"barpolar\"}], \"carpet\": [{\"aaxis\": {\"endlinecolor\": \"#A2B1C6\", \"gridcolor\": \"#506784\", \"linecolor\": \"#506784\", \"minorgridcolor\": \"#506784\", \"startlinecolor\": \"#A2B1C6\"}, \"baxis\": {\"endlinecolor\": \"#A2B1C6\", \"gridcolor\": \"#506784\", \"linecolor\": \"#506784\", \"minorgridcolor\": \"#506784\", \"startlinecolor\": \"#A2B1C6\"}, \"type\": \"carpet\"}], \"choropleth\": [{\"colorbar\": {\"outlinewidth\": 0, \"ticks\": \"\"}, \"type\": \"choropleth\"}], \"contour\": [{\"colorbar\": {\"outlinewidth\": 0, \"ticks\": \"\"}, \"colorscale\": [[0.0, \"#0d0887\"], [0.1111111111111111, \"#46039f\"], [0.2222222222222222, \"#7201a8\"], [0.3333333333333333, \"#9c179e\"], [0.4444444444444444, \"#bd3786\"], [0.5555555555555556, \"#d8576b\"], [0.6666666666666666, \"#ed7953\"], [0.7777777777777778, \"#fb9f3a\"], [0.8888888888888888, \"#fdca26\"], [1.0, \"#f0f921\"]], \"type\": \"contour\"}], \"contourcarpet\": [{\"colorbar\": {\"outlinewidth\": 0, \"ticks\": \"\"}, \"type\": \"contourcarpet\"}], \"heatmap\": [{\"colorbar\": {\"outlinewidth\": 0, \"ticks\": \"\"}, \"colorscale\": [[0.0, \"#0d0887\"], [0.1111111111111111, \"#46039f\"], [0.2222222222222222, \"#7201a8\"], [0.3333333333333333, \"#9c179e\"], [0.4444444444444444, \"#bd3786\"], [0.5555555555555556, \"#d8576b\"], [0.6666666666666666, \"#ed7953\"], [0.7777777777777778, \"#fb9f3a\"], [0.8888888888888888, \"#fdca26\"], [1.0, \"#f0f921\"]], \"type\": \"heatmap\"}], \"heatmapgl\": [{\"colorbar\": {\"outlinewidth\": 0, \"ticks\": \"\"}, \"colorscale\": [[0.0, \"#0d0887\"], [0.1111111111111111, \"#46039f\"], [0.2222222222222222, \"#7201a8\"], [0.3333333333333333, \"#9c179e\"], [0.4444444444444444, \"#bd3786\"], [0.5555555555555556, \"#d8576b\"], [0.6666666666666666, \"#ed7953\"], [0.7777777777777778, \"#fb9f3a\"], [0.8888888888888888, \"#fdca26\"], [1.0, \"#f0f921\"]], \"type\": \"heatmapgl\"}], \"histogram\": [{\"marker\": {\"colorbar\": {\"outlinewidth\": 0, \"ticks\": \"\"}}, \"type\": \"histogram\"}], \"histogram2d\": [{\"colorbar\": {\"outlinewidth\": 0, \"ticks\": \"\"}, \"colorscale\": [[0.0, \"#0d0887\"], [0.1111111111111111, \"#46039f\"], [0.2222222222222222, \"#7201a8\"], [0.3333333333333333, \"#9c179e\"], [0.4444444444444444, \"#bd3786\"], [0.5555555555555556, \"#d8576b\"], [0.6666666666666666, \"#ed7953\"], [0.7777777777777778, \"#fb9f3a\"], [0.8888888888888888, \"#fdca26\"], [1.0, \"#f0f921\"]], \"type\": \"histogram2d\"}], \"histogram2dcontour\": [{\"colorbar\": {\"outlinewidth\": 0, \"ticks\": \"\"}, \"colorscale\": [[0.0, \"#0d0887\"], [0.1111111111111111, \"#46039f\"], [0.2222222222222222, \"#7201a8\"], [0.3333333333333333, \"#9c179e\"], [0.4444444444444444, \"#bd3786\"], [0.5555555555555556, \"#d8576b\"], [0.6666666666666666, \"#ed7953\"], [0.7777777777777778, \"#fb9f3a\"], [0.8888888888888888, \"#fdca26\"], [1.0, \"#f0f921\"]], \"type\": \"histogram2dcontour\"}], \"mesh3d\": [{\"colorbar\": {\"outlinewidth\": 0, \"ticks\": \"\"}, \"type\": \"mesh3d\"}], \"parcoords\": [{\"line\": {\"colorbar\": {\"outlinewidth\": 0, \"ticks\": \"\"}}, \"type\": \"parcoords\"}], \"pie\": [{\"automargin\": true, \"type\": \"pie\"}], \"scatter\": [{\"marker\": {\"line\": {\"color\": \"#283442\"}}, \"type\": \"scatter\"}], \"scatter3d\": [{\"line\": {\"colorbar\": {\"outlinewidth\": 0, \"ticks\": \"\"}}, \"marker\": {\"colorbar\": {\"outlinewidth\": 0, \"ticks\": \"\"}}, \"type\": \"scatter3d\"}], \"scattercarpet\": [{\"marker\": {\"colorbar\": {\"outlinewidth\": 0, \"ticks\": \"\"}}, \"type\": \"scattercarpet\"}], \"scattergeo\": [{\"marker\": {\"colorbar\": {\"outlinewidth\": 0, \"ticks\": \"\"}}, \"type\": \"scattergeo\"}], \"scattergl\": [{\"marker\": {\"line\": {\"color\": \"#283442\"}}, \"type\": \"scattergl\"}], \"scattermapbox\": [{\"marker\": {\"colorbar\": {\"outlinewidth\": 0, \"ticks\": \"\"}}, \"type\": \"scattermapbox\"}], \"scatterpolar\": [{\"marker\": {\"colorbar\": {\"outlinewidth\": 0, \"ticks\": \"\"}}, \"type\": \"scatterpolar\"}], \"scatterpolargl\": [{\"marker\": {\"colorbar\": {\"outlinewidth\": 0, \"ticks\": \"\"}}, \"type\": \"scatterpolargl\"}], \"scatterternary\": [{\"marker\": {\"colorbar\": {\"outlinewidth\": 0, \"ticks\": \"\"}}, \"type\": \"scatterternary\"}], \"surface\": [{\"colorbar\": {\"outlinewidth\": 0, \"ticks\": \"\"}, \"colorscale\": [[0.0, \"#0d0887\"], [0.1111111111111111, \"#46039f\"], [0.2222222222222222, \"#7201a8\"], [0.3333333333333333, \"#9c179e\"], [0.4444444444444444, \"#bd3786\"], [0.5555555555555556, \"#d8576b\"], [0.6666666666666666, \"#ed7953\"], [0.7777777777777778, \"#fb9f3a\"], [0.8888888888888888, \"#fdca26\"], [1.0, \"#f0f921\"]], \"type\": \"surface\"}], \"table\": [{\"cells\": {\"fill\": {\"color\": \"#506784\"}, \"line\": {\"color\": \"rgb(17,17,17)\"}}, \"header\": {\"fill\": {\"color\": \"#2a3f5f\"}, \"line\": {\"color\": \"rgb(17,17,17)\"}}, \"type\": \"table\"}]}, \"layout\": {\"annotationdefaults\": {\"arrowcolor\": \"#f2f5fa\", \"arrowhead\": 0, \"arrowwidth\": 1}, \"coloraxis\": {\"colorbar\": {\"outlinewidth\": 0, \"ticks\": \"\"}}, \"colorscale\": {\"diverging\": [[0, \"#8e0152\"], [0.1, \"#c51b7d\"], [0.2, \"#de77ae\"], [0.3, \"#f1b6da\"], [0.4, \"#fde0ef\"], [0.5, \"#f7f7f7\"], [0.6, \"#e6f5d0\"], [0.7, \"#b8e186\"], [0.8, \"#7fbc41\"], [0.9, \"#4d9221\"], [1, \"#276419\"]], \"sequential\": [[0.0, \"#0d0887\"], [0.1111111111111111, \"#46039f\"], [0.2222222222222222, \"#7201a8\"], [0.3333333333333333, \"#9c179e\"], [0.4444444444444444, \"#bd3786\"], [0.5555555555555556, \"#d8576b\"], [0.6666666666666666, \"#ed7953\"], [0.7777777777777778, \"#fb9f3a\"], [0.8888888888888888, \"#fdca26\"], [1.0, \"#f0f921\"]], \"sequentialminus\": [[0.0, \"#0d0887\"], [0.1111111111111111, \"#46039f\"], [0.2222222222222222, \"#7201a8\"], [0.3333333333333333, \"#9c179e\"], [0.4444444444444444, \"#bd3786\"], [0.5555555555555556, \"#d8576b\"], [0.6666666666666666, \"#ed7953\"], [0.7777777777777778, \"#fb9f3a\"], [0.8888888888888888, \"#fdca26\"], [1.0, \"#f0f921\"]]}, \"colorway\": [\"#636efa\", \"#EF553B\", \"#00cc96\", \"#ab63fa\", \"#FFA15A\", \"#19d3f3\", \"#FF6692\", \"#B6E880\", \"#FF97FF\", \"#FECB52\"], \"font\": {\"color\": \"#f2f5fa\"}, \"geo\": {\"bgcolor\": \"rgb(17,17,17)\", \"lakecolor\": \"rgb(17,17,17)\", \"landcolor\": \"rgb(17,17,17)\", \"showlakes\": true, \"showland\": true, \"subunitcolor\": \"#506784\"}, \"hoverlabel\": {\"align\": \"left\"}, \"hovermode\": \"closest\", \"mapbox\": {\"style\": \"dark\"}, \"paper_bgcolor\": \"rgb(17,17,17)\", \"plot_bgcolor\": \"rgb(17,17,17)\", \"polar\": {\"angularaxis\": {\"gridcolor\": \"#506784\", \"linecolor\": \"#506784\", \"ticks\": \"\"}, \"bgcolor\": \"rgb(17,17,17)\", \"radialaxis\": {\"gridcolor\": \"#506784\", \"linecolor\": \"#506784\", \"ticks\": \"\"}}, \"scene\": {\"xaxis\": {\"backgroundcolor\": \"rgb(17,17,17)\", \"gridcolor\": \"#506784\", \"gridwidth\": 2, \"linecolor\": \"#506784\", \"showbackground\": true, \"ticks\": \"\", \"zerolinecolor\": \"#C8D4E3\"}, \"yaxis\": {\"backgroundcolor\": \"rgb(17,17,17)\", \"gridcolor\": \"#506784\", \"gridwidth\": 2, \"linecolor\": \"#506784\", \"showbackground\": true, \"ticks\": \"\", \"zerolinecolor\": \"#C8D4E3\"}, \"zaxis\": {\"backgroundcolor\": \"rgb(17,17,17)\", \"gridcolor\": \"#506784\", \"gridwidth\": 2, \"linecolor\": \"#506784\", \"showbackground\": true, \"ticks\": \"\", \"zerolinecolor\": \"#C8D4E3\"}}, \"shapedefaults\": {\"line\": {\"color\": \"#f2f5fa\"}}, \"sliderdefaults\": {\"bgcolor\": \"#C8D4E3\", \"bordercolor\": \"rgb(17,17,17)\", \"borderwidth\": 1, \"tickwidth\": 0}, \"ternary\": {\"aaxis\": {\"gridcolor\": \"#506784\", \"linecolor\": \"#506784\", \"ticks\": \"\"}, \"baxis\": {\"gridcolor\": \"#506784\", \"linecolor\": \"#506784\", \"ticks\": \"\"}, \"bgcolor\": \"rgb(17,17,17)\", \"caxis\": {\"gridcolor\": \"#506784\", \"linecolor\": \"#506784\", \"ticks\": \"\"}}, \"title\": {\"x\": 0.05}, \"updatemenudefaults\": {\"bgcolor\": \"#506784\", \"borderwidth\": 0}, \"xaxis\": {\"automargin\": true, \"gridcolor\": \"#283442\", \"linecolor\": \"#506784\", \"ticks\": \"\", \"title\": {\"standoff\": 15}, \"zerolinecolor\": \"#283442\", \"zerolinewidth\": 2}, \"yaxis\": {\"automargin\": true, \"gridcolor\": \"#283442\", \"linecolor\": \"#506784\", \"ticks\": \"\", \"title\": {\"standoff\": 15}, \"zerolinecolor\": \"#283442\", \"zerolinewidth\": 2}}}},                        {\"responsive\": true}                    ).then(function(){\n",
       "                            \n",
       "var gd = document.getElementById('f423ff30-a56b-4365-9217-403b497e2e64');\n",
       "var x = new MutationObserver(function (mutations, observer) {{\n",
       "        var display = window.getComputedStyle(gd).display;\n",
       "        if (!display || display === 'none') {{\n",
       "            console.log([gd, 'removed!']);\n",
       "            Plotly.purge(gd);\n",
       "            observer.disconnect();\n",
       "        }}\n",
       "}});\n",
       "\n",
       "// Listen for the removal of the full notebook cells\n",
       "var notebookContainer = gd.closest('#notebook-container');\n",
       "if (notebookContainer) {{\n",
       "    x.observe(notebookContainer, {childList: true});\n",
       "}}\n",
       "\n",
       "// Listen for the clearing of the current output cell\n",
       "var outputEl = gd.closest('.output');\n",
       "if (outputEl) {{\n",
       "    x.observe(outputEl, {childList: true});\n",
       "}}\n",
       "\n",
       "                        })                };                });            </script>        </div>"
      ]
     },
     "metadata": {},
     "output_type": "display_data"
    }
   ],
   "source": [
    "import plotly.express as px\n",
    "from data import countries_df\n",
    "\n",
    "fig = px.scatter_geo(countries_df, \n",
    "                     hover_name=\"Country_Region\", \n",
    "                     hover_data={\n",
    "                         \"Confirmed\": \":,2f\",\n",
    "                         \"Recovered\": \":,2f\",\n",
    "                         \"Deaths\": \":,2f\",\n",
    "                         \"Country_Region\":False\n",
    "                     }, color=\"Confirmed\", \n",
    "                     locations=\"Country_Region\", \n",
    "                     locationmode=\"country names\",\n",
    "                     size=\"Confirmed\",\n",
    "                     size_max=40,\n",
    "                     template=\"plotly_dark\"\n",
    "                    )\n",
    "fig.show()"
   ]
  }
 ],
 "metadata": {
  "kernelspec": {
   "display_name": "Python 3",
   "language": "python",
   "name": "python3"
  },
  "language_info": {
   "codemirror_mode": {
    "name": "ipython",
    "version": 3
   },
   "file_extension": ".py",
   "mimetype": "text/x-python",
   "name": "python",
   "nbconvert_exporter": "python",
   "pygments_lexer": "ipython3",
   "version": "3.8.5"
  }
 },
 "nbformat": 4,
 "nbformat_minor": 4
}
